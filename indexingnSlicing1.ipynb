{
 "cells": [
  {
   "cell_type": "code",
   "execution_count": 1,
   "metadata": {},
   "outputs": [
    {
     "name": "stdout",
     "output_type": "stream",
     "text": [
      "[9. 7. 5. 3. 1.]\n",
      "[1. 3. 5. 7. 9.]\n",
      "[9. 8. 7. 6. 5. 4. 3. 2. 1. 0.]\n",
      "[0. 2. 4. 6. 8.]\n"
     ]
    }
   ],
   "source": [
    "import numpy as np\n",
    "\n",
    "# Membuat array dengan menggunakan arange\n",
    "a = np.arange(6)\n",
    "print(a)\n",
    "\n",
    "# Membuat array dengan menggunakan arange\n",
    "b = np.arange(0, 51, 10)[:, np.newaxis]\n",
    "print(b)\n",
    "\n",
    "# Penjumlahan dua array\n",
    "c = a + b\n",
    "print(c)\n",
    "\n",
    "# Slicing array untuk mendapatkan bilangan ganjil menghitung mundur\n",
    "d = c[:, 5:0:-2]  # Menggunakan start, end, dan step\n",
    "print(d)\n",
    "\n",
    "# Slicing array untuk mendapatkan bilangan genap menghitung maju\n",
    "e = c[:, 1:6:2]  # Menggunakan start, end, dan step\n",
    "print(e)\n",
    "\n",
    "# Slicing array dengan menggunakan slicing bawaan Python\n",
    "f = c[:, ::-1]  # Menghitung mundur dengan step -1\n",
    "print(f)\n",
    "g = c[:, ::2]  # Menghitung maju dengan step 2\n",
    "print(g)\n"
   ]
  }
 ],
 "metadata": {
  "kernelspec": {
   "display_name": "Python 3",
   "language": "python",
   "name": "python3"
  },
  "language_info": {
   "codemirror_mode": {
    "name": "ipython",
    "version": 3
   },
   "file_extension": ".py",
   "mimetype": "text/x-python",
   "name": "python",
   "nbconvert_exporter": "python",
   "pygments_lexer": "ipython3",
   "version": "3.11.0 (main, Oct 24 2022, 18:26:48) [MSC v.1933 64 bit (AMD64)]"
  },
  "orig_nbformat": 4,
  "vscode": {
   "interpreter": {
    "hash": "c261aea317cc0286b3b3261fbba9abdec21eaa57589985bb7a274bf54d6cc0a7"
   }
  }
 },
 "nbformat": 4,
 "nbformat_minor": 2
}
