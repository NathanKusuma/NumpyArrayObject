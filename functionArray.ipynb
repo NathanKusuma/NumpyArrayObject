{
 "cells": [
  {
   "cell_type": "code",
   "execution_count": null,
   "metadata": {},
   "outputs": [],
   "source": [
    "import numpy as np\n",
    "\n",
    "# Membuat array dengan menggunakan arange\n",
    "a = np.arange(10) \n",
    "print(a)\n",
    "\n",
    "# Membuat array dengan menggunakan linspace\n",
    "b = np.linspace(0, 1, 5)  \n",
    "print(b)\n",
    "\n",
    "# Membuat array dengan menggunakan ones\n",
    "c = np.ones((3, 3))  \n",
    "print(c)\n",
    "\n",
    "# Membuat array dengan menggunakan zeros\n",
    "d = np.zeros((3, 3))  \n",
    "print(d)\n",
    "\n",
    "# Membuat array dengan menggunakan eye\n",
    "e = np.eye(3) \n",
    "print(e)\n",
    "\n",
    "# Membuat array dengan menggunakan diag\n",
    "f = np.diag([1, 2, 3]) \n",
    "print(f)\n",
    "\n",
    "# Membuat array dengan menggunakan nomor acak\n",
    "np.random.seed(0)  # Menetapkan seed untuk memastikan hasil yang sama setiap kali dijalankan\n",
    "g = np.random.random((3, 3))\n",
    "print(g)\n",
    "\n",
    "# Membuat array kosong dengan menggunakan empty\n",
    "h = np.empty((3, 3))  \n",
    "print(h)\n",
    "\n",
    "#Fungsi empty pada NumPy digunakan untuk membuat array kosong dengan ukuran yang telah ditentukan.\n",
    "#Fungsi ini bisa berguna ketika perlu membuat array dengan ukuran yang telah ditentukan sebelum memasukkan nilai-nilai ke dalam array tersebut.\n",
    "\n"
   ]
  }
 ],
 "metadata": {
  "kernelspec": {
   "display_name": "Python 3",
   "language": "python",
   "name": "python3"
  },
  "language_info": {
   "name": "python",
   "version": "3.11.0 (main, Oct 24 2022, 18:26:48) [MSC v.1933 64 bit (AMD64)]"
  },
  "orig_nbformat": 4,
  "vscode": {
   "interpreter": {
    "hash": "c261aea317cc0286b3b3261fbba9abdec21eaa57589985bb7a274bf54d6cc0a7"
   }
  }
 },
 "nbformat": 4,
 "nbformat_minor": 2
}
